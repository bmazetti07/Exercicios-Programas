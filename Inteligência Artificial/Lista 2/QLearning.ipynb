{
  "nbformat": 4,
  "nbformat_minor": 0,
  "metadata": {
    "colab": {
      "name": "Untitled8.ipynb",
      "provenance": [],
      "collapsed_sections": []
    },
    "kernelspec": {
      "name": "python3",
      "display_name": "Python 3"
    },
    "language_info": {
      "name": "python"
    }
  },
  "cells": [
    {
      "cell_type": "code",
      "metadata": {
        "id": "6eFURmDSUmK5"
      },
      "source": [
        "import numpy as np"
      ],
      "execution_count": 125,
      "outputs": []
    },
    {
      "cell_type": "markdown",
      "metadata": {
        "id": "NJep34rBVRLD"
      },
      "source": [
        "**MAPA**\n",
        "\n",
        "Definição das dimensões do mapa e inicialização das qualidades para cada estado\n",
        "\n",
        "Definição das possíveis ações a serem tomadas\n",
        "\n",
        "\n",
        "*   Ir para cima = índice 0\n",
        "*   Ir para a direita = Índice 1\n",
        "*   Ir para baixo = índice 2\n",
        "*   Ir para a esquerda = Índice 3"
      ]
    },
    {
      "cell_type": "code",
      "metadata": {
        "id": "2wuUPb5GUqG2"
      },
      "source": [
        "mapa_linhas = 3\n",
        "mapa_colunas = 4\n",
        "\n",
        "matrizQ = np.zeros ((mapa_linhas, mapa_colunas, 4))\n",
        "tedio = np.ones ((mapa_linhas, mapa_colunas, 4))\n",
        "visitas = np.zeros ((mapa_linhas, mapa_colunas, 4))\n",
        "\n",
        "acoes = ['cima', 'direita', 'baixo', 'esquerda']"
      ],
      "execution_count": 126,
      "outputs": []
    },
    {
      "cell_type": "markdown",
      "metadata": {
        "id": "FBY-NgCIViie"
      },
      "source": [
        "**RECOMPENSAS**\n",
        "\n",
        "Definição das recompensas de cada estado"
      ]
    },
    {
      "cell_type": "code",
      "metadata": {
        "colab": {
          "base_uri": "https://localhost:8080/"
        },
        "id": "ZjOVppaZVrf3",
        "outputId": "80428af3-e830-4a9a-aca3-58e0ca212fa1"
      },
      "source": [
        "recompensas = np.full ((mapa_linhas, mapa_colunas), -1)\n",
        "recompensas[0, 3] = 100\n",
        "recompensas[1, 1] = -100\n",
        "\n",
        "for i in recompensas:\n",
        "    print (i)    "
      ],
      "execution_count": 127,
      "outputs": [
        {
          "output_type": "stream",
          "text": [
            "[ -1  -1  -1 100]\n",
            "[  -1 -100   -1   -1]\n",
            "[-1 -1 -1 -1]\n"
          ],
          "name": "stdout"
        }
      ]
    },
    {
      "cell_type": "markdown",
      "metadata": {
        "id": "ZlKPOSJCcVB_"
      },
      "source": [
        "**Funções Auxiliares**"
      ]
    },
    {
      "cell_type": "code",
      "metadata": {
        "id": "wE3Jy8c2XmRa"
      },
      "source": [
        "def chegou_destino (linha, coluna):\n",
        "    ''' print (\"linha  == \", linha, \" coluna == \", coluna) '''\n",
        "    if recompensas[linha, coluna] == 100:\n",
        "        return True\n",
        "    return False\n",
        "\n",
        "def escolhe_acao (linha, coluna, taxa):\n",
        "    x = np.random.random ()\n",
        "    if x <= taxa:\n",
        "        ''' y = np.argmax (matrizQ [linha, coluna])  '''\n",
        "        if np.count_nonzero (np.max (matrizQ [linha, coluna])) > 1:\n",
        "            y = np.argmax (np.abs (tedio [linha, coluna]))\n",
        "        else:\n",
        "            y = np.argmax (matrizQ [linha, coluna])\n",
        "    else:\n",
        "        y = np.random.randint(4)\n",
        "    visitas [linha, coluna, y] += 1\n",
        "    return y\n",
        "\n",
        "def valida_acao (linha, coluna, acao):\n",
        "    # Tenta ir para cima\n",
        "    if acao == 0 and linha > 0:\n",
        "        return True\n",
        "    # Tenta ir para a direita\n",
        "    elif acao == 1 and coluna < mapa_colunas - 1:\n",
        "        return True\n",
        "    # Tenta ir para baixo\n",
        "    elif acao == 2 and linha < mapa_linhas - 1:\n",
        "        return True\n",
        "    # Tenta ir para a esquerda\n",
        "    elif acao == 3 and coluna > 0:\n",
        "        return True\n",
        "    # Não consegue fazer a ação\n",
        "    ''' print (linha, coluna, acao)\n",
        "    matrizQ [linha, coluna, acao] = -10 '''\n",
        "    ''' print (\"Matriz Q antes \", matrizQ)\n",
        "    print (\"Matriz Q depois \\n\", matrizQ) '''\n",
        "    return False\n",
        "\n",
        "def realiza_acao (linha, coluna, acao):\n",
        "    nova_linha, nova_coluna = linha, coluna\n",
        "    if acao == 0:\n",
        "        nova_linha -= 1\n",
        "    elif acao == 1:\n",
        "        nova_coluna += 1\n",
        "    elif acao == 2:\n",
        "        nova_linha += 1\n",
        "    elif acao == 3:\n",
        "        nova_coluna -= 1\n",
        "    return nova_linha, nova_coluna\n",
        "\n",
        "  \n",
        "def menor_prejuizo (lin_inicio, col_inicio):\n",
        "    if chegou_destino (lin_inicio, col_inicio):\n",
        "        return []\n",
        "    \n",
        "    cur_row = lin_inicio\n",
        "    cur_col = col_inicio\n",
        "    caminho = []\n",
        "    caminho.append ([cur_row, cur_col])\n",
        "\n",
        "    while not chegou_destino (cur_row, cur_col):\n",
        "        acao = escolhe_acao (cur_row, cur_col, 1.)\n",
        "        if valida_acao (cur_row, cur_col, acao):\n",
        "            cur_row, cur_col = realiza_acao (cur_row, cur_col, acao)\n",
        "            caminho.append ([cur_row, cur_col])\n",
        "\n",
        "    return caminho"
      ],
      "execution_count": 128,
      "outputs": []
    },
    {
      "cell_type": "code",
      "metadata": {
        "id": "Eusoefybcpgi"
      },
      "source": [
        "def treina ():\n",
        "    print (\"Matriz de recompensas: \")\n",
        "    print (recompensas)\n",
        "    learning_rate = 0.9\n",
        "    desconto = 0.9\n",
        "    chance = 0.8\n",
        "\n",
        "    posicao_inicial = [2, 0]\n",
        "    posicao_final = [0, 3]\n",
        "\n",
        "    ''' print (\"linha atual == \", lin_atual, \" coluna atual == \", col_atual) '''\n",
        "\n",
        "    for episodios in range (20):\n",
        "        lin_atual = lin_ant = posicao_inicial[0]\n",
        "        col_atual = col_ant = posicao_inicial[1]\n",
        "        caminho = [posicao_inicial]\n",
        "\n",
        "        while not chegou_destino (lin_atual, col_atual):\n",
        "            nova_acao = escolhe_acao (lin_atual, col_atual, chance)\n",
        "            ''' print (\"nova ação == \", nova_acao) '''\n",
        "            lin_ant = lin_atual\n",
        "            col_ant = col_atual\n",
        "\n",
        "            if valida_acao (lin_atual, col_atual, nova_acao):\n",
        "                lin_atual, col_atual = realiza_acao (lin_atual, col_atual, nova_acao)\n",
        "            \n",
        "                rec = recompensas[lin_atual, col_atual]\n",
        "                q_anterior = matrizQ [lin_ant, col_ant, nova_acao]\n",
        "                diferenca_temporal = rec + desconto * np.max(matrizQ [lin_atual, col_atual]) - q_anterior\n",
        "                matrizQ [lin_ant, col_ant, nova_acao] = q_anterior + learning_rate * diferenca_temporal\n",
        "                if visitas [lin_ant, col_ant, nova_acao] != 0:\n",
        "                    tedio [lin_ant, col_ant, nova_acao] = matrizQ [lin_ant, col_ant, nova_acao] / visitas [lin_ant, col_ant, nova_acao]\n",
        "\n",
        "                caminho.append ([lin_atual, col_atual])\n",
        "            \n",
        "        \n",
        "        ''' print (\"Caminho no episodio \", episodios, \" == \", caminho)\n",
        "        print (caminho)\n",
        "        if len(caminho) < 10:\n",
        "            print (\"Tamanho do caminho == \", len (caminho))\n",
        "            if len(caminho) == 6:\n",
        "                print (\"Episodio \", episodios)\n",
        "                print (\"Chegou no ponto final em 6 passos\")\n",
        "                print (\"Vezes que passou por [2, 3] == \", caminho.count ([2, 3]))\n",
        "                if caminho.count ([1, 1]) > 0: \n",
        "                    print (\"Mas passou por [1, 1] ou não passou uma vez em [2, 3] :(\")\n",
        "                    caminho.clear ()\n",
        "                else:\n",
        "                    break\n",
        "        if len(caminho) != 6:\n",
        "            caminho.clear () '''\n",
        "            \n",
        "\n",
        "    print (matrizQ)\n",
        "    print (\"Matriz de tedio: \")\n",
        "    print (tedio)\n",
        "    print (\"Matriz de visitas: \")\n",
        "    print (visitas)"
      ],
      "execution_count": 129,
      "outputs": []
    },
    {
      "cell_type": "code",
      "metadata": {
        "colab": {
          "base_uri": "https://localhost:8080/"
        },
        "id": "1iIMMztAVjnK",
        "outputId": "4fa44954-10aa-4dcd-f6bc-1131b2adb19e"
      },
      "source": [
        "treina ()\n",
        "\n",
        "print (\"\\nCaminho escolhido pelo algoritmo: \")\n",
        "print (menor_prejuizo (2, 0))"
      ],
      "execution_count": 130,
      "outputs": [
        {
          "output_type": "stream",
          "text": [
            "Matriz de recompensas: \n",
            "[[  -1   -1   -1  100]\n",
            " [  -1 -100   -1   -1]\n",
            " [  -1   -1   -1   -1]]\n",
            "[[[  0.          79.086492    -0.999        0.        ]\n",
            "  [  0.          88.99983      0.          -0.9       ]\n",
            "  [  0.         100.          78.22305899   0.        ]\n",
            "  [  0.           0.           0.           0.        ]]\n",
            "\n",
            " [[ 69.8574879  -28.91660135  46.34449503   0.        ]\n",
            "  [ 57.33        79.1         -0.999        0.        ]\n",
            "  [ 89.          79.2         -0.9        -28.52190342]\n",
            "  [ 99.           0.           0.          57.42      ]]\n",
            "\n",
            " [[ 59.90146627  -1.           0.           0.        ]\n",
            "  [-28.81000014  -0.999999     0.          -1.        ]\n",
            "  [ -0.99        -0.99         0.          -0.9999    ]\n",
            "  [ -0.9          0.           0.          -0.9       ]]]\n",
            "Matriz de tedio: \n",
            "[[[ 1.00000000e+00  1.58172984e+01 -3.33000000e-01  1.00000000e+00]\n",
            "  [ 1.00000000e+00  1.48333050e+01  1.00000000e+00 -9.00000000e-01]\n",
            "  [ 1.00000000e+00  5.55555556e+00  3.91115295e+01  1.00000000e+00]\n",
            "  [ 1.00000000e+00  1.00000000e+00  1.00000000e+00  1.00000000e+00]]\n",
            "\n",
            " [[ 9.97964113e+00 -4.81943356e+00  6.62064215e+00  1.00000000e+00]\n",
            "  [ 2.86650000e+01  5.65000000e+00 -3.33000000e-01  1.00000000e+00]\n",
            "  [ 6.35714286e+00  3.96000000e+01 -9.00000000e-01 -1.42609517e+01]\n",
            "  [ 4.95000000e+01  1.00000000e+00  1.00000000e+00  5.74200000e+01]]\n",
            "\n",
            " [[ 3.52361566e+00 -5.26315789e-02  1.00000000e+00  1.00000000e+00]\n",
            "  [-2.61909092e+00 -1.66666500e-01  1.00000000e+00 -1.11111111e-01]\n",
            "  [-4.95000000e-01 -4.95000000e-01  1.00000000e+00 -2.49975000e-01]\n",
            "  [-9.00000000e-01  1.00000000e+00  1.00000000e+00 -9.00000000e-01]]]\n",
            "Matriz de visitas: \n",
            "[[[ 36.   5.   3.   2.]\n",
            "  [  1.   6.   0.   1.]\n",
            "  [  2.  18.   2.   0.]\n",
            "  [  0.   0.   0.   0.]]\n",
            "\n",
            " [[  7.   6.   7.  76.]\n",
            "  [  2.  14.   3.   0.]\n",
            "  [ 14.   2.   1.   2.]\n",
            "  [  2.   0.   0.   1.]]\n",
            "\n",
            " [[ 17.  19. 290.  12.]\n",
            "  [ 11.   6. 100.   9.]\n",
            "  [  2.   2.   9.   4.]\n",
            "  [  1.   1.   0.   1.]]]\n",
            "\n",
            "Caminho escolhido pelo algoritmo: \n",
            "[[2, 0], [1, 0], [0, 0], [0, 1], [0, 2], [0, 3]]\n"
          ],
          "name": "stdout"
        }
      ]
    },
    {
      "cell_type": "markdown",
      "metadata": {
        "id": "KFuJ_GfpLKro"
      },
      "source": [
        "**Recompensa Positiva no Mapa**\n",
        "\n",
        "Aqui fazemos o mesmo processo feito anteriormente mas alteramos o mapa para conter a recompensa positiva"
      ]
    },
    {
      "cell_type": "code",
      "metadata": {
        "colab": {
          "base_uri": "https://localhost:8080/"
        },
        "id": "i6dqUoB7LcEh",
        "outputId": "24a4db90-a2fb-4e62-9eb2-3f308a28deb7"
      },
      "source": [
        "matrizQ = np.zeros ((mapa_linhas, mapa_colunas, 4))\n",
        "tedio = np.ones ((mapa_linhas, mapa_colunas, 4))\n",
        "visitas = np.zeros ((mapa_linhas, mapa_colunas, 4))\n",
        "recompensas[2, 3] = 10\n",
        "\n",
        "treina ()\n",
        "\n",
        "print (menor_prejuizo (2, 0))"
      ],
      "execution_count": 131,
      "outputs": [
        {
          "output_type": "stream",
          "text": [
            "Matriz de recompensas: \n",
            "[[  -1   -1   -1  100]\n",
            " [  -1 -100   -1   -1]\n",
            " [  -1   -1   -1   10]]\n",
            "[[[  0.          -0.99        -0.9          0.        ]\n",
            "  [  0.          -0.99       -34.9820448   -0.9       ]\n",
            "  [  0.          90.          -0.99        -0.9       ]\n",
            "  [  0.           0.           0.           0.        ]]\n",
            "\n",
            " [[ -0.99       -29.41812833  56.07029638   0.        ]\n",
            "  [ -0.99        79.07231836   0.           0.        ]\n",
            "  [ -0.99        88.99999729  -0.9        -25.9820448 ]\n",
            "  [100.           0.          85.45804852  79.02025223]]\n",
            "\n",
            " [[ -0.99999999  71.08099982   0.           0.        ]\n",
            "  [-90.          80.08999999   0.           0.        ]\n",
            "  [ 71.09997808  90.1          0.           0.        ]\n",
            "  [ 89.           0.           0.          -0.9       ]]]\n",
            "Matriz de tedio: \n",
            "[[[  1.          -0.495       -0.9          1.        ]\n",
            "  [  1.          -0.495      -17.4910224   -0.9       ]\n",
            "  [  1.          90.          -0.495       -0.9       ]\n",
            "  [  1.           1.           1.           1.        ]]\n",
            "\n",
            " [[ -0.495       -5.88362567  28.03514819   1.        ]\n",
            "  [ -0.495       11.29604548   1.           1.        ]\n",
            "  [ -0.495        8.89999973  -0.9        -25.9820448 ]\n",
            "  [  5.26315789   1.           5.34112803  26.34008408]]\n",
            "\n",
            " [[ -0.125        5.07721427   1.           1.        ]\n",
            "  [-90.           6.16076923   1.           1.        ]\n",
            "  [ 35.54998904   6.93076923   1.           1.        ]\n",
            "  [  3.17857143   1.           1.          -0.9       ]]]\n",
            "Matriz de visitas: \n",
            "[[[17.  2.  1.  2.]\n",
            "  [21.  2.  2.  1.]\n",
            "  [10.  1.  2.  1.]\n",
            "  [ 0.  0.  0.  0.]]\n",
            "\n",
            " [[ 2.  5.  2. 15.]\n",
            "  [ 2.  7.  0.  0.]\n",
            "  [ 2. 10.  1.  1.]\n",
            "  [19.  1. 16.  3.]]\n",
            "\n",
            " [[ 8. 14. 50.  4.]\n",
            "  [ 1. 13.  1.  0.]\n",
            "  [ 2. 13.  1.  0.]\n",
            "  [28.  3.  1.  1.]]]\n",
            "[[2, 0], [2, 1], [2, 2], [2, 3], [1, 3], [0, 3]]\n"
          ],
          "name": "stdout"
        }
      ]
    }
  ]
}